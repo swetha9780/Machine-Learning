{
  "cells": [
    {
      "cell_type": "markdown",
      "source": [
        "**Credit Card Fraud Detection**"
      ],
      "metadata": {
        "id": "-Ik20EfwFfFI"
      },
      "id": "-Ik20EfwFfFI"
    },
    {
      "cell_type": "markdown",
      "source": [
        "Build a model to detect fraudulent credit card transactions. Use a\n",
        " dataset containing information about credit card transactions, and\n",
        " experiment with algorithms like Logistic Regression, Decision Trees,\n",
        " or Random Forests to classify transactions as fraudulent or\n",
        " legitimate."
      ],
      "metadata": {
        "id": "E-7w_PJMFdNb"
      },
      "id": "E-7w_PJMFdNb"
    },
    {
      "cell_type": "code",
      "execution_count": 2,
      "id": "e94b39dd",
      "metadata": {
        "id": "e94b39dd"
      },
      "outputs": [],
      "source": [
        "import pandas as pd\n",
        "import numpy as np\n",
        "from sklearn.model_selection import train_test_split\n",
        "from sklearn.preprocessing import StandardScaler\n",
        "from sklearn.linear_model import LogisticRegression\n",
        "from sklearn.tree import DecisionTreeClassifier\n",
        "from sklearn.ensemble import RandomForestClassifier\n",
        "from sklearn.metrics import classification_report, confusion_matrix, roc_auc_score\n",
        "from imblearn.over_sampling import SMOTE\n",
        "import seaborn as sns\n",
        "import matplotlib.pyplot as plt"
      ]
    },
    {
      "cell_type": "code",
      "execution_count": 3,
      "id": "d5e7f66a",
      "metadata": {
        "id": "d5e7f66a"
      },
      "outputs": [],
      "source": [
        "# Load datasets\n",
        "train_df = pd.read_csv(\"fraudTrain.csv\")\n",
        "test_df = pd.read_csv(\"fraudTest.csv\")"
      ]
    },
    {
      "cell_type": "code",
      "execution_count": 4,
      "id": "32a1285c",
      "metadata": {
        "id": "32a1285c"
      },
      "outputs": [],
      "source": [
        "# Combine both\n",
        "df = pd.concat([train_df, test_df], axis=0).reset_index(drop=True)"
      ]
    },
    {
      "cell_type": "code",
      "execution_count": 5,
      "id": "a1dbb58d",
      "metadata": {
        "id": "a1dbb58d"
      },
      "outputs": [],
      "source": [
        "# Drop unnecessary columns\n",
        "cols_to_drop = ['trans_date_trans_time', 'cc_num', 'first', 'last', 'street', 'dob', 'trans_num', 'unix_time', 'merchant']\n",
        "df.drop(columns=cols_to_drop, inplace=True, errors='ignore')"
      ]
    },
    {
      "cell_type": "code",
      "execution_count": 6,
      "id": "62d4a353",
      "metadata": {
        "id": "62d4a353"
      },
      "outputs": [],
      "source": [
        "# One-hot encode categorical features\n",
        "df = pd.get_dummies(df, drop_first=True)"
      ]
    },
    {
      "cell_type": "code",
      "execution_count": 7,
      "id": "8fa74d60",
      "metadata": {
        "id": "8fa74d60"
      },
      "outputs": [],
      "source": [
        "# Define X and y\n",
        "X = df.drop(\"is_fraud\", axis=1)\n",
        "y = df[\"is_fraud\"]"
      ]
    },
    {
      "cell_type": "code",
      "execution_count": 8,
      "id": "10fbc1c5",
      "metadata": {
        "id": "10fbc1c5"
      },
      "outputs": [],
      "source": [
        "# Standardize\n",
        "scaler = StandardScaler()\n",
        "X_scaled = scaler.fit_transform(X)"
      ]
    },
    {
      "cell_type": "code",
      "execution_count": 10,
      "id": "1658ad37",
      "metadata": {
        "id": "1658ad37"
      },
      "outputs": [],
      "source": [
        "# Remove rows with NaN values in y\n",
        "nan_indices = y.isna()\n",
        "X_scaled_cleaned = X_scaled[~nan_indices]\n",
        "y_cleaned = y[~nan_indices]\n",
        "\n",
        "# Train-test split\n",
        "X_train, X_test, y_train, y_test = train_test_split(X_scaled_cleaned, y_cleaned, test_size=0.2, random_state=42, stratify=y_cleaned)"
      ]
    },
    {
      "cell_type": "code",
      "execution_count": 11,
      "id": "6293b583",
      "metadata": {
        "id": "6293b583"
      },
      "outputs": [],
      "source": [
        "# Models\n",
        "log_model = LogisticRegression(max_iter=1000)\n",
        "log_model.fit(X_train, y_train)\n",
        "log_pred = log_model.predict(X_test)"
      ]
    },
    {
      "cell_type": "code",
      "execution_count": 12,
      "id": "d3029ce4",
      "metadata": {
        "id": "d3029ce4"
      },
      "outputs": [],
      "source": [
        "tree_model = DecisionTreeClassifier()\n",
        "tree_model.fit(X_train, y_train)\n",
        "tree_pred = tree_model.predict(X_test)"
      ]
    },
    {
      "cell_type": "code",
      "execution_count": 13,
      "id": "3d1df5ab",
      "metadata": {
        "id": "3d1df5ab"
      },
      "outputs": [],
      "source": [
        "forest_model = RandomForestClassifier(n_estimators=100)\n",
        "forest_model.fit(X_train, y_train)\n",
        "forest_pred = forest_model.predict(X_test)"
      ]
    },
    {
      "cell_type": "code",
      "execution_count": 14,
      "id": "adb4c4dd",
      "metadata": {
        "id": "adb4c4dd"
      },
      "outputs": [],
      "source": [
        "# Evaluation\n",
        "def evaluate(name, y_true, y_pred):\n",
        "    print(f\"------ {name} ------\")\n",
        "    print(\"Confusion Matrix:\\n\", confusion_matrix(y_true, y_pred))\n",
        "    print(\"\\nClassification Report:\\n\", classification_report(y_true, y_pred))\n",
        "    print(\"ROC-AUC Score:\", roc_auc_score(y_true, y_pred))"
      ]
    },
    {
      "cell_type": "code",
      "execution_count": 15,
      "id": "06ac5cb0",
      "metadata": {
        "colab": {
          "base_uri": "https://localhost:8080/"
        },
        "id": "06ac5cb0",
        "outputId": "4c61752d-2279-4302-fb28-7c25f6586b25"
      },
      "outputs": [
        {
          "output_type": "stream",
          "name": "stdout",
          "text": [
            "------ Logistic Regression ------\n",
            "Confusion Matrix:\n",
            " [[3104    6]\n",
            " [   4    9]]\n",
            "\n",
            "Classification Report:\n",
            "               precision    recall  f1-score   support\n",
            "\n",
            "         0.0       1.00      1.00      1.00      3110\n",
            "         1.0       0.60      0.69      0.64        13\n",
            "\n",
            "    accuracy                           1.00      3123\n",
            "   macro avg       0.80      0.85      0.82      3123\n",
            "weighted avg       1.00      1.00      1.00      3123\n",
            "\n",
            "ROC-AUC Score: 0.8451892159287658\n",
            "------ Decision Tree ------\n",
            "Confusion Matrix:\n",
            " [[3108    2]\n",
            " [   5    8]]\n",
            "\n",
            "Classification Report:\n",
            "               precision    recall  f1-score   support\n",
            "\n",
            "         0.0       1.00      1.00      1.00      3110\n",
            "         1.0       0.80      0.62      0.70        13\n",
            "\n",
            "    accuracy                           1.00      3123\n",
            "   macro avg       0.90      0.81      0.85      3123\n",
            "weighted avg       1.00      1.00      1.00      3123\n",
            "\n",
            "ROC-AUC Score: 0.8073707642839476\n",
            "------ Random Forest ------\n",
            "Confusion Matrix:\n",
            " [[3109    1]\n",
            " [   8    5]]\n",
            "\n",
            "Classification Report:\n",
            "               precision    recall  f1-score   support\n",
            "\n",
            "         0.0       1.00      1.00      1.00      3110\n",
            "         1.0       0.83      0.38      0.53        13\n",
            "\n",
            "    accuracy                           1.00      3123\n",
            "   macro avg       0.92      0.69      0.76      3123\n",
            "weighted avg       1.00      1.00      1.00      3123\n",
            "\n",
            "ROC-AUC Score: 0.6921469206035122\n"
          ]
        }
      ],
      "source": [
        "evaluate(\"Logistic Regression\", y_test, log_pred)\n",
        "evaluate(\"Decision Tree\", y_test, tree_pred)\n",
        "evaluate(\"Random Forest\", y_test, forest_pred)"
      ]
    },
    {
      "cell_type": "code",
      "execution_count": 16,
      "id": "b2db09fa",
      "metadata": {
        "id": "b2db09fa"
      },
      "outputs": [],
      "source": [
        "# SMOTE for imbalance\n",
        "sm = SMOTE(random_state=42)\n",
        "X_res, y_res = sm.fit_resample(X_train, y_train)"
      ]
    },
    {
      "cell_type": "code",
      "execution_count": 17,
      "id": "9dba4a74",
      "metadata": {
        "id": "9dba4a74"
      },
      "outputs": [],
      "source": [
        "rf_sm = RandomForestClassifier(n_estimators=100)\n",
        "rf_sm.fit(X_res, y_res)\n",
        "sm_pred = rf_sm.predict(X_test)"
      ]
    },
    {
      "cell_type": "code",
      "execution_count": 18,
      "id": "2134d1e4",
      "metadata": {
        "colab": {
          "base_uri": "https://localhost:8080/"
        },
        "id": "2134d1e4",
        "outputId": "5896cc62-bdea-4e12-d0a2-40acaabd776e"
      },
      "outputs": [
        {
          "output_type": "stream",
          "name": "stdout",
          "text": [
            "------ Random Forest + SMOTE ------\n",
            "Confusion Matrix:\n",
            " [[3108    2]\n",
            " [   7    6]]\n",
            "\n",
            "Classification Report:\n",
            "               precision    recall  f1-score   support\n",
            "\n",
            "         0.0       1.00      1.00      1.00      3110\n",
            "         1.0       0.75      0.46      0.57        13\n",
            "\n",
            "    accuracy                           1.00      3123\n",
            "   macro avg       0.87      0.73      0.78      3123\n",
            "weighted avg       1.00      1.00      1.00      3123\n",
            "\n",
            "ROC-AUC Score: 0.7304476873608707\n"
          ]
        }
      ],
      "source": [
        "evaluate(\"Random Forest + SMOTE\", y_test, sm_pred)"
      ]
    },
    {
      "cell_type": "code",
      "execution_count": 19,
      "id": "ca98ea62",
      "metadata": {
        "id": "ca98ea62"
      },
      "outputs": [],
      "source": [
        "# Feature importance\n",
        "feat_imp = pd.DataFrame({\n",
        "    \"Feature\": X.columns,\n",
        "    \"Importance\": forest_model.feature_importances_\n",
        "}).sort_values(by=\"Importance\", ascending=False)"
      ]
    },
    {
      "cell_type": "code",
      "execution_count": 20,
      "id": "eb4eb52b",
      "metadata": {
        "colab": {
          "base_uri": "https://localhost:8080/",
          "height": 607
        },
        "id": "eb4eb52b",
        "outputId": "0735d20f-e8e5-463a-d703-34f36083e7f7"
      },
      "outputs": [
        {
          "output_type": "display_data",
          "data": {
            "text/plain": [
              "<Figure size 1000x600 with 1 Axes>"
            ],
            "image/png": "[encoded data removed]"
          },
          "metadata": {}
        }
      ],
      "source": [
        "plt.figure(figsize=(10, 6))\n",
        "sns.barplot(data=feat_imp.head(10), x=\"Importance\", y=\"Feature\")\n",
        "plt.title(\"Top 10 Feature Importances (Random Forest)\")\n",
        "plt.tight_layout()\n",
        "plt.show()"
      ]
    }
  ],
  "metadata": {
    "colab": {
      "provenance": [],
      "cell_execution_strategy": "setup"
    },
    "language_info": {
      "name": "python"
    },
    "kernelspec": {
      "name": "python3",
      "display_name": "Python 3"
    }
  },
  "nbformat": 4,
  "nbformat_minor": 5
}